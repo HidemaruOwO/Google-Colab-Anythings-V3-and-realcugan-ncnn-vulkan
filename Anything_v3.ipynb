{
  "nbformat": 4,
  "nbformat_minor": 0,
  "metadata": {
    "colab": {
      "provenance": [],
      "authorship_tag": "ABX9TyMm9tJpy4eBIN4xwIw++Jpf",
      "include_colab_link": true
    },
    "kernelspec": {
      "name": "python3",
      "display_name": "Python 3"
    },
    "language_info": {
      "name": "python"
    },
    "accelerator": "GPU",
    "gpuClass": "standard"
  },
  "cells": [
    {
      "cell_type": "markdown",
      "metadata": {
        "id": "view-in-github",
        "colab_type": "text"
      },
      "source": [
        "<a href=\"https://colab.research.google.com/github/HidemaruOwO/Google-Colab-Anythings-V3-and-realcugan-ncnn-vulkan/blob/master/Anything_v3.ipynb\" target=\"_parent\"><img src=\"https://colab.research.google.com/assets/colab-badge.svg\" alt=\"Open In Colab\"/></a>"
      ]
    },
    {
      "cell_type": "code",
      "execution_count": null,
      "metadata": {
        "id": "2xX4mx8eeXvK"
      },
      "outputs": [],
      "source": [
        "!nvidia-smi"
      ]
    },
    {
      "cell_type": "code",
      "source": [
        "# パッケージのインストール\n",
        "!pip install -e git+https://github.com/CompVis/taming-transformers.git@master#egg=taming-transformers\n",
        "!pip install pytorch_lightning tensorboard==2.9.1 omegaconf einops taming-transformers==0.0.1 clip transformers kornia test-tube\n",
        "!pip install diffusers invisible-watermark"
      ],
      "metadata": {
        "id": "-8DgEiotekNy"
      },
      "execution_count": null,
      "outputs": []
    },
    {
      "cell_type": "code",
      "source": [
        "# StableDiffusion のインストール\n",
        "!git clone https://github.com/CompVis/stable-diffusion.git\n",
        "%cd stable-diffusion\n",
        "!pip install -e .\n",
        "%mkdir outputs"
      ],
      "metadata": {
        "id": "rAgRANmHelEq"
      },
      "execution_count": null,
      "outputs": []
    },
    {
      "cell_type": "code",
      "source": [
        "# Anythingv3.0 のモデルデータを取得\n",
        "!wget https://huggingface.co/Linaqruf/anything-v3.0/resolve/main/Anything-V3.0-pruned.ckpt"
      ],
      "metadata": {
        "id": "wBxtKj86emoe"
      },
      "execution_count": null,
      "outputs": []
    },
    {
      "cell_type": "code",
      "source": [
        "# セーフフィルタのチェックをスキップした txt2img.py を txt2img2.py として保存\n",
        "!wget https://gist.githubusercontent.com/uakihir0/bbb1bd8a4480e2bab07726ca0e744f91/raw/3e6f43fa5c112e512006cc9e33e932f6c6539d94/txt2img.py -O scripts/txt2img2.py"
      ],
      "metadata": {
        "id": "ntD6qv-IesFb"
      },
      "execution_count": null,
      "outputs": []
    },
    {
      "cell_type": "code",
      "source": [
        "# realcugan ncnn vulkanの追加\n",
        "!git clone https://github.com/HidemaruOwO/realcugan-ncnn-vulkan-simple\n",
        "!mv realcugan-ncnn-vulkan-simple/* ."
      ],
      "metadata": {
        "id": "xx2uJZuwl7f8"
      },
      "execution_count": null,
      "outputs": []
    },
    {
      "cell_type": "code",
      "source": [
        "# realcugan ncnn vulkanの環境構築\n",
        "!bash setup.sh\n",
        "!mv convert.sh convert.sh.tmp\n",
        "!cat convert.sh.tmp | sed -s \"s;baseimg;outputs/samples;\" >> convert.sh\n",
        "!chmod 744 convert.sh\n",
        "!apt install vulkan-utils libvulkan-dev"
      ],
      "metadata": {
        "id": "Pou4RwWpzm13"
      },
      "execution_count": null,
      "outputs": []
    },
    {
      "cell_type": "code",
      "source": [
        "# realcugan-ncnn-vulkanが落とせなかったら直接落とす\n",
        "!wget https://github.com/nihui/realcugan-ncnn-vulkan/releases/download/20220728/realcugan-ncnn-vulkan-20220728-ubuntu.zip\n",
        "!unzip realcugan-ncnn-vulkan-20220728-ubuntu.zip\n",
        "!mv realcugan-ncnn-vulkan-20220728-ubuntu/* bin"
      ],
      "metadata": {
        "id": "8J89OQVWzo-T"
      },
      "execution_count": null,
      "outputs": []
    },
    {
      "cell_type": "code",
      "source": [
        "# イラストの生成\n",
        "# promptに英単語および英文を羅列させる\n",
        "!python scripts/txt2img2.py \\\n",
        "    --H 704 \\\n",
        "    --W 448 \\\n",
        "    --plms \\\n",
        "    --ckpt ./Anything-V3.0-pruned.ckpt \\\n",
        "    --skip_grid \\\n",
        "    --n_samples 1  \\\n",
        "    --n_iter 1 \\\n",
        "    --outdir outputs \\\n",
        "    --ddim_steps 100 \\\n",
        "    --prompt \"JK high school student black haer eyes cute heart in eyes sleepy lie prone on one's desk\""
      ],
      "metadata": {
        "id": "pxylnk6IesqV"
      },
      "execution_count": null,
      "outputs": []
    },
    {
      "cell_type": "code",
      "source": [
        "# 生成した画像のアップスケーリング\n",
        "# 第一引数: 拡大率\n",
        "# 第二引数: ノイズ除去の強度\n",
        "!bash convert.sh 3 3"
      ],
      "metadata": {
        "id": "qV2wr9_8zw4A"
      },
      "execution_count": null,
      "outputs": []
    }
  ]
}